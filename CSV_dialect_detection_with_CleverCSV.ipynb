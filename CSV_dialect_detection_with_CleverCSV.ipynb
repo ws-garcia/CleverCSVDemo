{
 "cells": [
  {
   "cell_type": "markdown",
   "metadata": {
    "format": "text/markdown"
   },
   "source": [
    "# CSV dialect detection with CleverCSV\n",
    "\n",
    "**Author**: [Gertjan van den Burg](https://gertjan.dev)\n",
    "\n",
    "In this note we'll show some examples of using CleverCSV, a package for \n",
    "handling messy CSV files. We'll start with a motivating example and then show \n",
    "some other files where CleverCSV fails.\n",
    "\n",
    "How does it work? CleverCSV searches the space of all possible dialects of a \n",
    "file, and computes a *data consistency measure* that quantifies how much the \n",
    "resulting table \"looks like real data\". The consistency measure combines \n",
    "patterns of row lengths in the parsing result and the data type of the \n",
    "resulting cells.  This mimicks how a human would identify the dialect. If \n",
    "you're wondering why this problem is hard, it's because every dialect will \n",
    "give you *some* table, but not necessarily the correct one. More details can \n",
    "be found in the paper.\n",
    "\n",
    "Handy links:\n",
    "\n",
    " - [Paper on arXiv](https://arxiv.org/abs/1811.11242)\n",
    " - [CleverCSV on GitHub](https://github.com/alan-turing-institute/CleverCSV)\n",
    " - [CleverCSV on PyPI](https://pypi.org/project/clevercsv/)\n",
    " - [Reproducible Research Repo](https://github.com/alan-turing-institute/CSV_Wrangling/)\n",
    "\n"
   ]
  },
  {
   "cell_type": "markdown",
   "metadata": {
    "format": "text/markdown"
   },
   "source": [
    "\n",
    "We'll compare CleverCSV to the built-in Python CSV module and to Pandas and \n",
    "show how these are not as robust as CleverCSV. Note that Pandas always uses \n",
    "the comma as separator, unless it is forced to autodetect the dialect, in \n",
    "which case it uses the Python Sniffer on the first line (we don't show that \n",
    "here).  These files are of course selected for this tutorial, because it \n",
    "wouldn't be very interesting to show files where all methods are correct.\n",
    "\n",
    "We'll define some functions for easy comparisons.\n",
    "\n"
   ]
  },
  {
   "cell_type": "code",
   "execution_count": 1,
   "metadata": {
    "autoscroll": "auto",
    "options": {
     "caption": false,
     "complete": true,
     "display_data": true,
     "display_stream": true,
     "dpi": 200,
     "echo": true,
     "evaluate": true,
     "f_env": null,
     "f_pos": "htpb",
     "f_size": [
      6,
      4
     ],
     "f_spines": true,
     "fig": true,
     "include": true,
     "name": null,
     "option_string": "",
     "results": "verbatim",
     "term": false,
     "wrap": "output"
    }
   },
   "outputs": [],
   "source": [
    "import csv\n",
    "import clevercsv\n",
    "import io\n",
    "import os\n",
    "import requests\n",
    "import pandas as pd\n",
    "\n",
    "from termcolor import colored\n",
    "from IPython.display import display\n",
    "\n",
    "def page(url):\n",
    "    \"\"\" Get the content of a webpage using requests, assuming UTF-8 encoding \"\"\"\n",
    "    page = requests.get(url)\n",
    "    content = page.content.decode('utf-8')\n",
    "    return content\n",
    "\n",
    "def head(content, num=10):\n",
    "    \"\"\" Preview a CSV file \"\"\"\n",
    "    print('--- File Preview ---')\n",
    "    for i, line in enumerate(io.StringIO(content, newline=None)):\n",
    "        print(line, end='')\n",
    "        if i == num - 1:\n",
    "            break\n",
    "    print('\\n---')\n",
    "\n",
    "def sniff_url(content):\n",
    "    \"\"\" Utility to run the python Sniffer on a CSV file at a URL \"\"\"\n",
    "    try:\n",
    "        dialect = csv.Sniffer().sniff(content)\n",
    "        print(\"CSV Sniffer detected: delimiter = %r, quotechar = %r\" % (dialect.delimiter,\n",
    "                                                                        dialect.quotechar))\n",
    "    except csv.Error as err:\n",
    "        print(colored(\"No result from the Python CSV Sniffer\", \"red\"))\n",
    "        print(colored(\"Error was: %s\" % err, \"red\"))\n",
    "\n",
    "def detect_url(content, verbose=True):\n",
    "    \"\"\" Utility to run the CleverCSV detector on a CSV file at a URL \"\"\"\n",
    "    # We have designed CleverCSV to be a drop-in replacement for the CSV module\n",
    "    try:\n",
    "        dialect = clevercsv.Sniffer().sniff(content, verbose=verbose)\n",
    "        print(\"CleverCSV detected: delimiter = %r, quotechar = %r\" % (dialect.delimiter, \n",
    "                                                                      dialect.quotechar))\n",
    "    except clevercsv.Error:\n",
    "        print(colored(\"No result from CleverCSV\", \"red\"))\n",
    "\n",
    "def pandas_url(content):\n",
    "    \"\"\" Wrapper around pandas.read_csv(). \"\"\"\n",
    "    buf = io.StringIO(content)\n",
    "    print(\n",
    "        \"Pandas uses: delimiter = %r, quotechar = %r\"\n",
    "        % (',', '\"')\n",
    "    )\n",
    "    try:\n",
    "        df = pd.read_csv(buf)\n",
    "        display(df.head())\n",
    "    except pd.errors.ParserError:\n",
    "        print(colored(\"ParserError from pandas.\", \"red\"))\n",
    "\n",
    "\n",
    "def compare(input_, verbose=False, n_preview=10):\n",
    "    if os.path.exists(input_):\n",
    "      enc = clevercsv.utils.get_encoding(input_)\n",
    "      content = open(input_, 'r', newline='', encoding=enc).read()\n",
    "    else:\n",
    "      content = page(input_)\n",
    "    head(content, num=n_preview)\n",
    "    print(\"\\n1. Running Python Sniffer\")\n",
    "    sniff_url(content)\n",
    "    print(\"\\n2. Running Pandas\")\n",
    "    pandas_url(content)\n",
    "    print(\"\\n3. Running CleverCSV\")\n",
    "    detect_url(content, verbose=verbose)"
   ]
  },
  {
   "cell_type": "markdown",
   "metadata": {
    "format": "text/markdown"
   },
   "source": [
    "\n",
    "### Table embedded in the last record\n",
    "\n"
   ]
  },
  {
   "cell_type": "code",
   "execution_count": 2,
   "metadata": {
    "autoscroll": "auto",
    "options": {
     "caption": false,
     "complete": true,
     "display_data": true,
     "display_stream": true,
     "dpi": 200,
     "echo": true,
     "evaluate": true,
     "f_env": null,
     "f_pos": "htpb",
     "f_size": [
      6,
      4
     ],
     "f_spines": true,
     "fig": true,
     "include": true,
     "name": null,
     "option_string": "",
     "results": "verbatim",
     "term": false,
     "wrap": "output"
    }
   },
   "outputs": [
    {
     "name": "stdout",
     "output_type": "stream",
     "text": [
      "--- File Preview ---\n",
      "id,comment\n",
      "1,hello\n",
      "2,goodybe\n",
      "3,\"Some table like:\n",
      "id|key|value\n",
      "\n",
      "---\n",
      "\n",
      "1. Running Python Sniffer\n",
      "CSV Sniffer detected: delimiter = ',', quotechar = '\"'\n",
      "\n",
      "2. Running Pandas\n",
      "Pandas uses: delimiter = ',', quotechar = '\"'\n"
     ]
    },
    {
     "data": {
      "text/html": [
       "<div>\n",
       "<style scoped>\n",
       "    .dataframe tbody tr th:only-of-type {\n",
       "        vertical-align: middle;\n",
       "    }\n",
       "\n",
       "    .dataframe tbody tr th {\n",
       "        vertical-align: top;\n",
       "    }\n",
       "\n",
       "    .dataframe thead th {\n",
       "        text-align: right;\n",
       "    }\n",
       "</style>\n",
       "<table border=\"1\" class=\"dataframe\">\n",
       "  <thead>\n",
       "    <tr style=\"text-align: right;\">\n",
       "      <th></th>\n",
       "      <th>id</th>\n",
       "      <th>comment</th>\n",
       "    </tr>\n",
       "  </thead>\n",
       "  <tbody>\n",
       "    <tr>\n",
       "      <th>0</th>\n",
       "      <td>1</td>\n",
       "      <td>hello</td>\n",
       "    </tr>\n",
       "    <tr>\n",
       "      <th>1</th>\n",
       "      <td>2</td>\n",
       "      <td>goodybe</td>\n",
       "    </tr>\n",
       "    <tr>\n",
       "      <th>2</th>\n",
       "      <td>3</td>\n",
       "      <td>Some table like:\\nid|key|value\\n1|apple|10\\n2|...</td>\n",
       "    </tr>\n",
       "  </tbody>\n",
       "</table>\n",
       "</div>"
      ],
      "text/plain": [
       "   id                                            comment\n",
       "0   1                                              hello\n",
       "1   2                                            goodybe\n",
       "2   3  Some table like:\\nid|key|value\\n1|apple|10\\n2|..."
      ]
     },
     "metadata": {},
     "output_type": "display_data"
    },
    {
     "name": "stdout",
     "output_type": "stream",
     "text": [
      "\n",
      "3. Running CleverCSV\n",
      "CleverCSV detected: delimiter = ',', quotechar = '\"'\n"
     ]
    }
   ],
   "source": [
    "compare('./data/Table embedded in the last record.csv', n_preview=5)"
   ]
  },
  {
   "cell_type": "markdown",
   "metadata": {
    "format": "text/markdown"
   },
   "source": [
    "\n",
    "You'll notice that all methods says ``,`` is the delimiter and all are ok.\n",
    "\n",
    "### Pipe character is more frequent than the semicolon\n",
    "\n"
   ]
  },
  {
   "cell_type": "code",
   "execution_count": 3,
   "metadata": {
    "autoscroll": "auto",
    "options": {
     "caption": false,
     "complete": true,
     "display_data": true,
     "display_stream": true,
     "dpi": 200,
     "echo": true,
     "evaluate": true,
     "f_env": null,
     "f_pos": "htpb",
     "f_size": [
      6,
      4
     ],
     "f_spines": true,
     "fig": true,
     "include": true,
     "name": null,
     "option_string": "",
     "results": "verbatim",
     "term": false,
     "wrap": "output"
    }
   },
   "outputs": [
    {
     "name": "stdout",
     "output_type": "stream",
     "text": [
      "--- File Preview ---\n",
      "1;Orange VUHF;K6CF AnhmHlls|K6COV Orng|K6MWT LkFrstSntg|K6NBR NwprtBch|K6QEH FllrtnRyth|K6SOA LgnBch|K6SOA SnClmnt|K6SOA TrbcCnyn|K6SYU FllrtnSt.J|KA6EEK IrvnSgnlP|KE6FUZ AnhmDsnyl|N6ME Fllrtn|N6SLD LkFrstSntg|W6HBR OrngPlsnts|W6KRW SnClmnt|W6KRW TstnLmRdg|W6VLD HntngtnBch|WA6FV FntnVlly|WA6YNT Plcnt|WB6HRO CstMsCtyH;145.1400|145.1600|145.2200|145.2400|145.2600|145.4000|145.4200|146.0250|146.2650|146.7900|146.8950|146.8950|146.9400|146.9700|147.0600|147.4350|147.4650|147.6450|147.8550|147.9150;144.5400|144.5600|144.6200|144.6400|144.6600|144.8000|144.8200|146.6250|146.8650|146.1900|146.2950|146.2950|146.3400|146.3700|147.6600|146.4000|146.5050|147.0450|147.2550|147.3150;OFF;OFF;OFF;;;OFF;;;Selected;0.5;0.5;0.1;0.1\n",
      "\n",
      "---\n",
      "\n",
      "1. Running Python Sniffer\n",
      "CSV Sniffer detected: delimiter = ';', quotechar = '\"'\n",
      "\n",
      "2. Running Pandas\n",
      "Pandas uses: delimiter = ',', quotechar = '\"'\n"
     ]
    },
    {
     "data": {
      "text/html": [
       "<div>\n",
       "<style scoped>\n",
       "    .dataframe tbody tr th:only-of-type {\n",
       "        vertical-align: middle;\n",
       "    }\n",
       "\n",
       "    .dataframe tbody tr th {\n",
       "        vertical-align: top;\n",
       "    }\n",
       "\n",
       "    .dataframe thead th {\n",
       "        text-align: right;\n",
       "    }\n",
       "</style>\n",
       "<table border=\"1\" class=\"dataframe\">\n",
       "  <thead>\n",
       "    <tr style=\"text-align: right;\">\n",
       "      <th></th>\n",
       "      <th>1;Orange VUHF;K6CF AnhmHlls|K6COV Orng|K6MWT LkFrstSntg|K6NBR NwprtBch|K6QEH FllrtnRyth|K6SOA LgnBch|K6SOA SnClmnt|K6SOA TrbcCnyn|K6SYU FllrtnSt.J|KA6EEK IrvnSgnlP|KE6FUZ AnhmDsnyl|N6ME Fllrtn|N6SLD LkFrstSntg|W6HBR OrngPlsnts|W6KRW SnClmnt|W6KRW TstnLmRdg|W6VLD HntngtnBch|WA6FV FntnVlly|WA6YNT Plcnt|WB6HRO CstMsCtyH;145.1400|145.1600|145.2200|145.2400|145.2600|145.4000|145.4200|146.0250|146.2650|146.7900|146.8950|146.8950|146.9400|146.9700|147.0600|147.4350|147.4650|147.6450|147.8550|147.9150;144.5400|144.5600|144.6200|144.6400|144.6600|144.8000|144.8200|146.6250|146.8650|146.1900|146.2950|146.2950|146.3400|146.3700|147.6600|146.4000|146.5050|147.0450|147.2550|147.3150;OFF;OFF;OFF;;;OFF;;;Selected;0.5;0.5;0.1;0.1</th>\n",
       "    </tr>\n",
       "  </thead>\n",
       "  <tbody>\n",
       "  </tbody>\n",
       "</table>\n",
       "</div>"
      ],
      "text/plain": [
       "Empty DataFrame\n",
       "Columns: [1;Orange VUHF;K6CF AnhmHlls|K6COV Orng|K6MWT LkFrstSntg|K6NBR NwprtBch|K6QEH FllrtnRyth|K6SOA LgnBch|K6SOA SnClmnt|K6SOA TrbcCnyn|K6SYU FllrtnSt.J|KA6EEK IrvnSgnlP|KE6FUZ AnhmDsnyl|N6ME Fllrtn|N6SLD LkFrstSntg|W6HBR OrngPlsnts|W6KRW SnClmnt|W6KRW TstnLmRdg|W6VLD HntngtnBch|WA6FV FntnVlly|WA6YNT Plcnt|WB6HRO CstMsCtyH;145.1400|145.1600|145.2200|145.2400|145.2600|145.4000|145.4200|146.0250|146.2650|146.7900|146.8950|146.8950|146.9400|146.9700|147.0600|147.4350|147.4650|147.6450|147.8550|147.9150;144.5400|144.5600|144.6200|144.6400|144.6600|144.8000|144.8200|146.6250|146.8650|146.1900|146.2950|146.2950|146.3400|146.3700|147.6600|146.4000|146.5050|147.0450|147.2550|147.3150;OFF;OFF;OFF;;;OFF;;;Selected;0.5;0.5;0.1;0.1]\n",
       "Index: []"
      ]
     },
     "metadata": {},
     "output_type": "display_data"
    },
    {
     "name": "stdout",
     "output_type": "stream",
     "text": [
      "\n",
      "3. Running CleverCSV\n",
      "CleverCSV detected: delimiter = '|', quotechar = ''\n"
     ]
    }
   ],
   "source": [
    "compare('./data/Pipe character is more frequent than the semicoloncsv.csv', n_preview=5)"
   ]
  },
  {
   "cell_type": "markdown",
   "metadata": {
    "format": "text/markdown"
   },
   "source": [
    "\n",
    "Sniffer is correct, Pandas Says ``,`` is the delimiter and CleverCSV gets incorrect ``|`` character.\n",
    "\n"
   ]
  },
  {
   "cell_type": "markdown",
   "metadata": {
    "format": "text/markdown"
   },
   "source": [
    "\n",
    "### Undefined field delimiter\n",
    "\n",
    "The next file is the hardest one: a single column CSV with an escaped delimiter. The parsers must detect \n",
    "the semicolon ``;`` as field delimiter.\n", 
    "\n"
   ]
  },
  {
   "cell_type": "code",
   "execution_count": 4,
   "metadata": {
    "autoscroll": "auto",
    "options": {
     "caption": false,
     "complete": true,
     "display_data": true,
     "display_stream": true,
     "dpi": 200,
     "echo": true,
     "evaluate": true,
     "f_env": null,
     "f_pos": "htpb",
     "f_size": [
      6,
      4
     ],
     "f_spines": true,
     "fig": true,
     "include": true,
     "name": null,
     "option_string": "",
     "results": "verbatim",
     "term": false,
     "wrap": "output"
    }
   },
   "outputs": [
    {
     "name": "stdout",
     "output_type": "stream",
     "text": [
      "--- File Preview ---\n",
      "\"This semicolon (;) need to be escaped\"\n",
      "This CSV has only one column\n",
      "We will see if a comma (,) break the logic\n",
      "or a single colon (:) or pipe (|)\n",
      "Also include a Tab (\t) for testing\n",
      "\n",
      "---\n",
      "\n",
      "1. Running Python Sniffer\n",
      "\u001b[31mNo result from the Python CSV Sniffer\u001b[0m\n",
      "\u001b[31mError was: Could not determine delimiter\u001b[0m\n",
      "\n",
      "2. Running Pandas\n",
      "Pandas uses: delimiter = ',', quotechar = '\"'\n",
      "\u001b[31mParserError from pandas.\u001b[0m\n",
      "\n",
      "3. Running CleverCSV\n",
      "CleverCSV detected: delimiter = ' ', quotechar = ''\n"
     ]
    }
   ],
   "source": [
    "compare('./data/Undefined field delimiter.csv', n_preview=5)"
   ]
  },
  {
   "cell_type": "markdown",
   "metadata": {
    "format": "text/markdown"
   },
   "source": [
    "\n",
    "Python Sniffer cannot detect the delimiter. Pandas executes in error and says ``,`` is the delimiter, CleverCSV \n",
    "incorrectly obtains the space `` `` character as delimiter!.\n",
    "\n"
   ]
  }
 ],
 "metadata": {
  "kernel_info": {
   "name": "python3"
  },
  "kernelspec": {
   "display_name": "Python 3",
   "language": "python",
   "name": "python3"
  },
  "language_info": {
   "codemirror_mode": {
    "name": "ipython",
    "version": 3
   },
   "file_extension": ".py",
   "mimetype": "text/x-python",
   "name": "python",
   "nbconvert_exporter": "python",
   "pygments_lexer": "ipython3",
   "version": "3.7.10"
  }
 },
 "nbformat": 4,
 "nbformat_minor": 1
}

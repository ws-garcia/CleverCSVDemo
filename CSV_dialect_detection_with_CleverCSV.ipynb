{
 "cells": [
  {
   "cell_type": "markdown",
   "metadata": {
    "format": "text/markdown"
   },
   "source": [
    "# CSV dialect detection with CleverCSV\n",
    "\n",
    "**Author**: [Gertjan van den Burg](https://gertjan.dev)\n",
    "\n",
    "In this note we'll show some examples of dialect sniffing using CleverCSV, \n",
    "a package for handling messy CSV files, the built-in Python CSV module and Pandas. \n",
    "We'll start with a simple file and then with other files where and check if CleverCSV \n",
    "or the other libraries can detect the correct delimiter. These files are, of course, \n",
    "selected for this tutorial because it wouldn't be very interesting to show files \n",
    "where all methods are correct.\n"
    "\n",
    "Handy links:\n",
    "\n",
    " - [Paper on arXiv](https://arxiv.org/abs/1811.11242)\n",
    " - [CleverCSV on GitHub](https://github.com/alan-turing-institute/CleverCSV)\n",
    " - [CleverCSV on PyPI](https://pypi.org/project/clevercsv/)\n",
    " - [Reproducible Research Repo](https://github.com/alan-turing-institute/CSV_Wrangling/)\n",
    "\n"
   ]
  },
  {
   "cell_type": "markdown",
   "metadata": {
    "format": "text/markdown"
   },
   "source": [
    "\n",
    "## CSV delimiters sniffing\n",
    "\n",
    "We'll define some functions for easy comparisons:\n",
    "\n"
   ]
  },
  {
   "cell_type": "code",
   "execution_count": 1,
   "metadata": {
    "autoscroll": "auto",
    "options": {
     "caption": false,
     "complete": true,
     "display_data": true,
     "display_stream": true,
     "dpi": 200,
     "echo": true,
     "evaluate": true,
     "f_env": null,
     "f_pos": "htpb",
     "f_size": [
      6,
      4
     ],
     "f_spines": true,
     "fig": true,
     "include": true,
     "name": null,
     "option_string": "",
     "results": "verbatim",
     "term": false,
     "wrap": "output"
    }
   },
   "outputs": [],
   "source": [
    "import csv\n",
    "import clevercsv\n",
    "import io\n",
    "import os\n",
    "import requests\n",
    "import pandas as pd\n",
    "\n",
    "from termcolor import colored\n",
    "from IPython.display import display\n",
    "\n",
    "def page(url):\n",
    "    \"\"\" Get the content of a webpage using requests, assuming UTF-8 encoding \"\"\"\n",
    "    page = requests.get(url)\n",
    "    content = page.content.decode('utf-8')\n",
    "    return content\n",
    "\n",
    "def head(content, num=10):\n",
    "    \"\"\" Preview a CSV file \"\"\"\n",
    "    print('--- File Preview ---')\n",
    "    for i, line in enumerate(io.StringIO(content, newline=None)):\n",
    "        print(line, end='')\n",
    "        if i == num - 1:\n",
    "            break\n",
    "    print('\\n---')\n",
    "\n",
    "def sniff_url(content):\n",
    "    \"\"\" Utility to run the python Sniffer on a CSV file at a URL \"\"\"\n",
    "    try:\n",
    "        dialect = csv.Sniffer().sniff(content)\n",
    "        print(\"CSV Sniffer detected: delimiter = %r, quotechar = %r\" % (dialect.delimiter,\n",
    "                                                                        dialect.quotechar))\n",
    "    except csv.Error as err:\n",
    "        print(colored(\"No result from the Python CSV Sniffer\", \"red\"))\n",
    "        print(colored(\"Error was: %s\" % err, \"red\"))\n",
    "\n",
    "def detect_url(content, verbose=True):\n",
    "    \"\"\" Utility to run the CleverCSV detector on a CSV file at a URL \"\"\"\n",
    "    # We have designed CleverCSV to be a drop-in replacement for the CSV module\n",
    "    try:\n",
    "        dialect = clevercsv.Sniffer().sniff(content, verbose=verbose)\n",
    "        print(\"CleverCSV detected: delimiter = %r, quotechar = %r\" % (dialect.delimiter, \n",
    "                                                                      dialect.quotechar))\n",
    "    except clevercsv.Error:\n",
    "        print(colored(\"No result from CleverCSV\", \"red\"))\n",
    "\n",
    "def pandas_url(content):\n",
    "    \"\"\" Wrapper around pandas.read_csv(). \"\"\"\n",
    "    buf = io.StringIO(content)\n",
    "    print(\n",
    "        \"Pandas uses: delimiter = %r, quotechar = %r\"\n",
    "        % (',', '\"')\n",
    "    )\n",
    "    try:\n",
    "        df = pd.read_csv(buf)\n",
    "        display(df.head())\n",
    "    except pd.errors.ParserError:\n",
    "        print(colored(\"ParserError from pandas.\", \"red\"))\n",
    "\n",
    "\n",
    "def compare(input_, verbose=False, n_preview=10):\n",
    "    if os.path.exists(input_):\n",
    "      enc = clevercsv.utils.get_encoding(input_)\n",
    "      content = open(input_, 'r', newline='', encoding=enc).read()\n",
    "    else:\n",
    "      content = page(input_)\n",
    "    head(content, num=n_preview)\n",
    "    print(\"\\n1. Running Python Sniffer\")\n",
    "    sniff_url(content)\n",
    "    print(\"\\n2. Running Pandas\")\n",
    "    pandas_url(content)\n",
    "    print(\"\\n3. Running CleverCSV\")\n",
    "    detect_url(content, verbose=verbose)"
   ]
  },
  {
   "cell_type": "markdown",
   "metadata": {
    "format": "text/markdown"
   },
   "source": [
    "\n",
    "### CSV with embedded table in a single field\n",
    "\n",
    "The file is semicolon separated and have a embedded pipe delimited table \n",
    "in the last field of the last record. The embedded vertical bar table is \n",
    "enclosed in quotation marks, which makes the distinction process easier.\n",
    "\n"
   ]
  },
  {
   "cell_type": "code",
   "execution_count": 5,
   "metadata": {
    "autoscroll": "auto",
    "options": {
     "caption": false,
     "complete": true,
     "display_data": true,
     "display_stream": true,
     "dpi": 200,
     "echo": true,
     "evaluate": true,
     "f_env": null,
     "f_pos": "htpb",
     "f_size": [
      6,
      4
     ],
     "f_spines": true,
     "fig": true,
     "include": true,
     "name": null,
     "option_string": "",
     "results": "verbatim",
     "term": false,
     "wrap": "output"
    }
   },
   "source": [
    "compare('./data/airedale.csv', n_preview=5)"
   ]
  },
  {
   "cell_type": "markdown",
   "metadata": {
    "format": "text/markdown"
   },
   "source": [
    "\n",
    "You'll notice that Python Sniffer says ``.`` is the delimiter, Pandas is \n",
    "correct because the file uses the default comma as separator, and CleverCSV \n",
    "detects the dialect correctly as well.\n",
    "\n",
    "### Tab-separated\n",
    "\n"
   ]
  },
  {
   "cell_type": "code",
   "execution_count": 6,
   "metadata": {
    "autoscroll": "auto",
    "options": {
     "caption": false,
     "complete": true,
     "display_data": true,
     "display_stream": true,
     "dpi": 200,
     "echo": true,
     "evaluate": true,
     "f_env": null,
     "f_pos": "htpb",
     "f_size": [
      6,
      4
     ],
     "f_spines": true,
     "fig": true,
     "include": true,
     "name": null,
     "option_string": "",
     "results": "verbatim",
     "term": false,
     "wrap": "output"
    }
   },
   "outputs": [
    {
     "name": "stdout",
     "output_type": "stream",
     "text": [
      "--- File Preview ---\n",
      "UK Availability  Disposals and Production of Milk and Milk Products Year\t\tAVAILABILITY of RAW MILK UK Milk   Production million litres\tAVAILABILITY of RAW MILK Imports  million litres\tAVAILABILITY of RAW MILK Total Available million litres\tDISPOSALS of RAW MILK For Manufacture For Liquid Milk (1) million litres\tDISPOSALS of RAW MILK For Manufacture Total million litres\tDISPOSALS of RAW MILK For Manufacture Condensed Milk (3) million litres\tDISPOSALS of RAW MILK For Manufacture Milk Powders (3)(4) million litres\tDISPOSALS of RAW MILK For Manufacture Butter million cream litres\tDISPOSALS of RAW MILK For Manufacture Cheese million litres\tDISPOSALS of RAW MILK For Manufacture million cream litres\tDISPOSALS of RAW MILK For ManufactureYoghurt million litres\tDISPOSALS of RAW MILK For Manufacture Other Products (5) million litres\tDISPOSALS of RAW MILK For Manufacture Exports million litres\tDISPOSALS of RAW MILK For Manufacture  Stock change & wastage million litres\tWHOLESALE PRODUCTION (2) Liquid Milk (1) million litres\tWHOLESALE PRODUCTION (2) Condensed Milk (3) th. tonnes\tWHOLESALE PRODUCTION (2) Milk Powders (3) (4) th. tonnes\tWHOLESALE PRODUCTION (2) Butter (6) th. tonnes\tWHOLESALE PRODUCTION (2) Cheese (6)  th. tonnes\tINTERVENTION STOCKS Skimmed Milk Powder th. tonnes\tINTERVENTION STOCKS Skimmed Milk Powder th. tonnes\n",
      "1987\t\t14718.2\t\t14718.2\t6813.1\t7857\t698.5\t2872.9\t373.1\t2868.4\t169.5\t\t874.7\t36\t12.1\t6576.3\t180.3\t288.4\t182.3\t270.2\t\t\n",
      "1988\t\t14398.8\t\t14398.8\t6858.3\t7480.6\t809.4\t2311.9\t301.8\t3178.4\t190.9\t\t688.3\t46.9\t13\t6605.9\t182.8\t240.1\t146.7\t299.9\t\t\n",
      "1989\t\t14186\t\t14186\t6859.4\t7257.5\t794.8\t2313.5\t287.4\t3069.7\t226.4\t\t565.7\t57.7\t11.3\t6623\t207.3\t227.9\t139.5\t283.1\t\t\n",
      "1990\t\t14465.7\t\t14465.7\t6892.4\t7488.9\t737.5\t2482.5\t308.8\t3289.1\t248.7\t\t422.3\t74.5\t9.9\t6654.8\t203.8\t236\t151.2\t315.1\t\t\n",
      "\n",
      "---\n",
      "\n",
      "1. Running Python Sniffer\n",
      "CSV Sniffer detected: delimiter = ' ', quotechar = '\"'\n",
      "\n",
      "2. Running Pandas\n",
      "Pandas uses: delimiter = ',', quotechar = '\"'\n"
     ]
    },
    {
     "data": {
      "text/html": [
       "<div>\n",
       "<style scoped>\n",
       "    .dataframe tbody tr th:only-of-type {\n",
       "        vertical-align: middle;\n",
       "    }\n",
       "\n",
       "    .dataframe tbody tr th {\n",
       "        vertical-align: top;\n",
       "    }\n",
       "\n",
       "    .dataframe thead th {\n",
       "        text-align: right;\n",
       "    }\n",
       "</style>\n",
       "<table border=\"1\" class=\"dataframe\">\n",
       "  <thead>\n",
       "    <tr style=\"text-align: right;\">\n",
       "      <th></th>\n",
       "      <th>UK Availability  Disposals and Production of Milk and Milk Products Year\\t\\tAVAILABILITY of RAW MILK UK Milk   Production million litres\\tAVAILABILITY of RAW MILK Imports  million litres\\tAVAILABILITY of RAW MILK Total Available million litres\\tDISPOSALS of RAW MILK For Manufacture For Liquid Milk (1) million litres\\tDISPOSALS of RAW MILK For Manufacture Total million litres\\tDISPOSALS of RAW MILK For Manufacture Condensed Milk (3) million litres\\tDISPOSALS of RAW MILK For Manufacture Milk Powders (3)(4) million litres\\tDISPOSALS of RAW MILK For Manufacture Butter million cream litres\\tDISPOSALS of RAW MILK For Manufacture Cheese million litres\\tDISPOSALS of RAW MILK For Manufacture million cream litres\\tDISPOSALS of RAW MILK For ManufactureYoghurt million litres\\tDISPOSALS of RAW MILK For Manufacture Other Products (5) million litres\\tDISPOSALS of RAW MILK For Manufacture Exports million litres\\tDISPOSALS of RAW MILK For Manufacture  Stock change &amp; wastage million litres\\tWHOLESALE PRODUCTION (2) Liquid Milk (1) million litres\\tWHOLESALE PRODUCTION (2) Condensed Milk (3) th. tonnes\\tWHOLESALE PRODUCTION (2) Milk Powders (3) (4) th. tonnes\\tWHOLESALE PRODUCTION (2) Butter (6) th. tonnes\\tWHOLESALE PRODUCTION (2) Cheese (6)  th. tonnes\\tINTERVENTION STOCKS Skimmed Milk Powder th. tonnes\\tINTERVENTION STOCKS Skimmed Milk Powder th. tonnes</th>\n",
       "    </tr>\n",
       "  </thead>\n",
       "  <tbody>\n",
       "    <tr>\n",
       "      <th>0</th>\n",
       "      <td>1987\\t\\t14718.2\\t\\t14718.2\\t6813.1\\t7857\\t698....</td>\n",
       "    </tr>\n",
       "    <tr>\n",
       "      <th>1</th>\n",
       "      <td>1988\\t\\t14398.8\\t\\t14398.8\\t6858.3\\t7480.6\\t80...</td>\n",
       "    </tr>\n",
       "    <tr>\n",
       "      <th>2</th>\n",
       "      <td>1989\\t\\t14186\\t\\t14186\\t6859.4\\t7257.5\\t794.8\\...</td>\n",
       "    </tr>\n",
       "    <tr>\n",
       "      <th>3</th>\n",
       "      <td>1990\\t\\t14465.7\\t\\t14465.7\\t6892.4\\t7488.9\\t73...</td>\n",
       "    </tr>\n",
       "    <tr>\n",
       "      <th>4</th>\n",
       "      <td>1991\\t\\t13992\\t\\t13992\\t6892.8\\t7021.9\\t706.7\\...</td>\n",
       "    </tr>\n",
       "  </tbody>\n",
       "</table>\n",
       "</div>"
      ],
      "text/plain": [
       "  UK Availability  Disposals and Production of Milk and Milk Products Year\\t\\tAVAILABILITY of RAW MILK UK Milk   Production million litres\\tAVAILABILITY of RAW MILK Imports  million litres\\tAVAILABILITY of RAW MILK Total Available million litres\\tDISPOSALS of RAW MILK For Manufacture For Liquid Milk (1) million litres\\tDISPOSALS of RAW MILK For Manufacture Total million litres\\tDISPOSALS of RAW MILK For Manufacture Condensed Milk (3) million litres\\tDISPOSALS of RAW MILK For Manufacture Milk Powders (3)(4) million litres\\tDISPOSALS of RAW MILK For Manufacture Butter million cream litres\\tDISPOSALS of RAW MILK For Manufacture Cheese million litres\\tDISPOSALS of RAW MILK For Manufacture million cream litres\\tDISPOSALS of RAW MILK For ManufactureYoghurt million litres\\tDISPOSALS of RAW MILK For Manufacture Other Products (5) million litres\\tDISPOSALS of RAW MILK For Manufacture Exports million litres\\tDISPOSALS of RAW MILK For Manufacture  Stock change & wastage million litres\\tWHOLESALE PRODUCTION (2) Liquid Milk (1) million litres\\tWHOLESALE PRODUCTION (2) Condensed Milk (3) th. tonnes\\tWHOLESALE PRODUCTION (2) Milk Powders (3) (4) th. tonnes\\tWHOLESALE PRODUCTION (2) Butter (6) th. tonnes\\tWHOLESALE PRODUCTION (2) Cheese (6)  th. tonnes\\tINTERVENTION STOCKS Skimmed Milk Powder th. tonnes\\tINTERVENTION STOCKS Skimmed Milk Powder th. tonnes\n",
       "0  1987\\t\\t14718.2\\t\\t14718.2\\t6813.1\\t7857\\t698....                                                                                                                                                                                                                                                                                                                                                                                                                                                                                                                                                                                                                                                                                                                                                                                                                                                                                                                                                                                                                                                                                                                                                                                                                                                                                                                                                            \n",
       "1  1988\\t\\t14398.8\\t\\t14398.8\\t6858.3\\t7480.6\\t80...                                                                                                                                                                                                                                                                                                                                                                                                                                                                                                                                                                                                                                                                                                                                                                                                                                                                                                                                                                                                                                                                                                                                                                                                                                                                                                                                                            \n",
       "2  1989\\t\\t14186\\t\\t14186\\t6859.4\\t7257.5\\t794.8\\...                                                                                                                                                                                                                                                                                                                                                                                                                                                                                                                                                                                                                                                                                                                                                                                                                                                                                                                                                                                                                                                                                                                                                                                                                                                                                                                                                            \n",
       "3  1990\\t\\t14465.7\\t\\t14465.7\\t6892.4\\t7488.9\\t73...                                                                                                                                                                                                                                                                                                                                                                                                                                                                                                                                                                                                                                                                                                                                                                                                                                                                                                                                                                                                                                                                                                                                                                                                                                                                                                                                                            \n",
       "4  1991\\t\\t13992\\t\\t13992\\t6892.8\\t7021.9\\t706.7\\...                                                                                                                                                                                                                                                                                                                                                                                                                                                                                                                                                                                                                                                                                                                                                                                                                                                                                                                                                                                                                                                                                                                                                                                                                                                                                                                                                            "
      ]
     },
     "metadata": {},
     "output_type": "display_data"
    },
    {
     "name": "stdout",
     "output_type": "stream",
     "text": [
      "\n",
      "3. Running CleverCSV\n",
      "CleverCSV detected: delimiter = '\\t', quotechar = '\"'\n"
     ]
    }
   ],
   "source": [
    "compare('./data/milk.csv', n_preview=5)"
   ]
  },
  {
   "cell_type": "markdown",
   "metadata": {
    "format": "text/markdown"
   },
   "source": [
    "\n",
    "Sniffer and Pandas are incorrect here, but CleverCSV gets it right.\n",
    "\n",
    "### File with comments\n",
    "\n",
    "The Python Sniffer gives no result for this file, and Pandas fails because it \n",
    "checks for a rectangular table shape.  Note that the text in the comments says \n",
    "that the file uses ``|`` as separator, even though it actually uses ``,``!\n",
    "\n"
   ]
  },
  {
   "cell_type": "code",
   "execution_count": 7,
   "metadata": {
    "autoscroll": "auto",
    "options": {
     "caption": false,
     "complete": true,
     "display_data": true,
     "display_stream": true,
     "dpi": 200,
     "echo": true,
     "evaluate": true,
     "f_env": null,
     "f_pos": "htpb",
     "f_size": [
      6,
      4
     ],
     "f_spines": true,
     "fig": true,
     "include": true,
     "name": null,
     "option_string": "",
     "results": "verbatim",
     "term": false,
     "wrap": "output"
    }
   },
   "outputs": [
    {
     "name": "stdout",
     "output_type": "stream",
     "text": [
      "--- File Preview ---\n",
      "#Release 14.4 - par P.49d (lin)\n",
      "#Copyright (c) 1995-2012 Xilinx, Inc.  All rights reserved.\n",
      "\n",
      "#Thu Jun 20 07:23:42 2013\n",
      "\n",
      "#\n",
      "## NOTE: This file is designed to be imported into a spreadsheet program\n",
      "# such as Microsoft Excel for viewing, printing and sorting. The |\n",
      "# character is used as the data field separator. This file is also designed\n",
      "# to support parsing.\n",
      "#\n",
      "#INPUT FILE:       project.ncd\n",
      "#OUTPUT FILE:      project_r_pad.csv\n",
      "#PART TYPE:        xc3s500e\n",
      "#SPEED GRADE:      -5\n",
      "#PACKAGE:          fg320\n",
      "#\n",
      "# Pinout by Pin Number:\n",
      "# \n",
      "# -----,-----,-----,-----,-----,-----,-----,-----,-----,-----,-----,-----,-----,-----,-----,\n",
      "Pin Number,Signal Name,Pin Usage,Pin Name,Direction,IO Standard,IO Bank Number,Drive (mA),Slew Rate,Termination,IOB Delay,Voltage,Constraint,IO Register,Signal Integrity,\n",
      "A1,,,GND,,,,,,,,,,,,\n",
      "A2,,,TDI,,,,,,,,,,,,\n",
      "A3,,IBUF,IP,UNUSED,,0,,,,,,,,,\n",
      "A4,,DIFFM,IO_L24P_0,UNUSED,,0,,,,,,,,,\n",
      "A5,,DIFFMI,IP_L22P_0,UNUSED,,0,,,,,,,,,\n",
      "A6,,DIFFS,IO_L20N_0,UNUSED,,0,,,,,,,,,\n",
      "A7,,IBUF,IP,UNUSED,,0,,,,,,,,,\n",
      "A8,,IOB,IO,UNUSED,,0,,,,,,,,,\n",
      "A9,,,VCCO_0,,,0,,,,,2.50,,,,\n",
      "\n",
      "---\n",
      "\n",
      "1. Running Python Sniffer\n",
      "\u001b[31mNo result from the Python CSV Sniffer\u001b[0m\n",
      "\u001b[31mError was: Could not determine delimiter\u001b[0m\n",
      "\n",
      "2. Running Pandas\n",
      "Pandas uses: delimiter = ',', quotechar = '\"'\n",
      "\u001b[31mParserError from pandas.\u001b[0m\n",
      "\n",
      "3. Running CleverCSV\n",
      "CleverCSV detected: delimiter = ',', quotechar = ''\n"
     ]
    }
   ],
   "source": [
    "compare(\"https://raw.githubusercontent.com/queq/just-stuff/c1b8714664cc674e1fc685bd957eac548d636a43/pov/TopFixed/build/project_r_pad.csv\", n_preview=30)"
   ]
  },
  {
   "cell_type": "markdown",
   "metadata": {
    "format": "text/markdown"
   },
   "source": [
    "\n",
    "### Semi-colon separated\n",
    "\n"
   ]
  },
  {
   "cell_type": "code",
   "execution_count": 8,
   "metadata": {
    "autoscroll": "auto",
    "options": {
     "caption": false,
     "complete": true,
     "display_data": true,
     "display_stream": true,
     "dpi": 200,
     "echo": true,
     "evaluate": true,
     "f_env": null,
     "f_pos": "htpb",
     "f_size": [
      6,
      4
     ],
     "f_spines": true,
     "fig": true,
     "include": true,
     "name": null,
     "option_string": "",
     "results": "verbatim",
     "term": false,
     "wrap": "output"
    }
   },
   "outputs": [
    {
     "name": "stdout",
     "output_type": "stream",
     "text": [
      "--- File Preview ---\n",
      "log(E);de_log(E);dede_log(E);cepstrum;de_cepstrum;dede_cepstrum\n",
      "0.27;1.77;4.97;0.1;0.61;1.75;\n",
      "1.75;1.25;1.00;1.25;0.50;0.25;\n",
      "---\n",
      "\n",
      "1. Running Python Sniffer\n",
      "\u001b[31mNo result from the Python CSV Sniffer\u001b[0m\n",
      "\u001b[31mError was: Could not determine delimiter\u001b[0m\n",
      "\n",
      "2. Running Pandas\n",
      "Pandas uses: delimiter = ',', quotechar = '\"'\n"
     ]
    },
    {
     "data": {
      "text/html": [
       "<div>\n",
       "<style scoped>\n",
       "    .dataframe tbody tr th:only-of-type {\n",
       "        vertical-align: middle;\n",
       "    }\n",
       "\n",
       "    .dataframe tbody tr th {\n",
       "        vertical-align: top;\n",
       "    }\n",
       "\n",
       "    .dataframe thead th {\n",
       "        text-align: right;\n",
       "    }\n",
       "</style>\n",
       "<table border=\"1\" class=\"dataframe\">\n",
       "  <thead>\n",
       "    <tr style=\"text-align: right;\">\n",
       "      <th></th>\n",
       "      <th>log(E);de_log(E);dede_log(E);cepstrum;de_cepstrum;dede_cepstrum</th>\n",
       "    </tr>\n",
       "  </thead>\n",
       "  <tbody>\n",
       "    <tr>\n",
       "      <th>0</th>\n",
       "      <td>0.27;1.77;4.97;0.1;0.61;1.75;</td>\n",
       "    </tr>\n",
       "    <tr>\n",
       "      <th>1</th>\n",
       "      <td>1.75;1.25;1.00;1.25;0.50;0.25;</td>\n",
       "    </tr>\n",
       "  </tbody>\n",
       "</table>\n",
       "</div>"
      ],
      "text/plain": [
       "  log(E);de_log(E);dede_log(E);cepstrum;de_cepstrum;dede_cepstrum\n",
       "0                      0.27;1.77;4.97;0.1;0.61;1.75;             \n",
       "1                     1.75;1.25;1.00;1.25;0.50;0.25;             "
      ]
     },
     "metadata": {},
     "output_type": "display_data"
    },
    {
     "name": "stdout",
     "output_type": "stream",
     "text": [
      "\n",
      "3. Running CleverCSV\n",
      "CleverCSV detected: delimiter = ';', quotechar = ''\n"
     ]
    }
   ],
   "source": [
    "compare(\"https://raw.githubusercontent.com/grezesf/Research/17b1e829d1d4b8954661270bd8b099e74bb45ce7/Reservoirs/Task0_Replication/code/preprocessing/factors.csv\")"
   ]
  },
  {
   "cell_type": "markdown",
   "metadata": {
    "format": "text/markdown"
   },
   "source": [
    "\n",
    "Sniffer fails outright, Pandas is incorrect because it assumes comma.\n",
    "\n",
    "### File with multiple tables\n",
    "\n"
   ]
  },
  {
   "cell_type": "code",
   "execution_count": 9,
   "metadata": {
    "autoscroll": "auto",
    "options": {
     "caption": false,
     "complete": true,
     "display_data": true,
     "display_stream": true,
     "dpi": 200,
     "echo": true,
     "evaluate": true,
     "f_env": null,
     "f_pos": "htpb",
     "f_size": [
      6,
      4
     ],
     "f_spines": true,
     "fig": true,
     "include": true,
     "name": null,
     "option_string": "",
     "results": "verbatim",
     "term": false,
     "wrap": "output"
    }
   },
   "outputs": [
    {
     "name": "stdout",
     "output_type": "stream",
     "text": [
      "--- File Preview ---\n",
      "2013/12/12 23:20 UPDATE\n",
      "ピーク時供給力(万kW),時間帯,供給力情報更新日,供給力情報更新時刻\n",
      "4849,17:00〜18:00,12/12,8:30\n",
      "\n",
      "予想最大電力(万kW),時間帯,予想最大電力情報更新日,予想最大電力情報更新時刻\n",
      "4210,17:00〜18:00,12/12,8:30\n",
      "\n",
      "DATE,TIME,当日実績(万kW),予測値（万kW)\n",
      "2013/12/12,0:00,3098,0\n",
      "2013/12/12,1:00,2948,0\n",
      "\n",
      "---\n",
      "\n",
      "1. Running Python Sniffer\n",
      "CSV Sniffer detected: delimiter = '\\r', quotechar = '\"'\n",
      "\n",
      "2. Running Pandas\n",
      "Pandas uses: delimiter = ',', quotechar = '\"'\n"
     ]
    },
    {
     "data": {
      "text/html": [
       "<div>\n",
       "<style scoped>\n",
       "    .dataframe tbody tr th:only-of-type {\n",
       "        vertical-align: middle;\n",
       "    }\n",
       "\n",
       "    .dataframe tbody tr th {\n",
       "        vertical-align: top;\n",
       "    }\n",
       "\n",
       "    .dataframe thead th {\n",
       "        text-align: right;\n",
       "    }\n",
       "</style>\n",
       "<table border=\"1\" class=\"dataframe\">\n",
       "  <thead>\n",
       "    <tr style=\"text-align: right;\">\n",
       "      <th></th>\n",
       "      <th></th>\n",
       "      <th></th>\n",
       "      <th>2013/12/12 23:20 UPDATE</th>\n",
       "    </tr>\n",
       "  </thead>\n",
       "  <tbody>\n",
       "    <tr>\n",
       "      <th>ピーク時供給力(万kW)</th>\n",
       "      <th>時間帯</th>\n",
       "      <th>供給力情報更新日</th>\n",
       "      <td>供給力情報更新時刻</td>\n",
       "    </tr>\n",
       "    <tr>\n",
       "      <th>4849</th>\n",
       "      <th>17:00〜18:00</th>\n",
       "      <th>12/12</th>\n",
       "      <td>8:30</td>\n",
       "    </tr>\n",
       "    <tr>\n",
       "      <th>予想最大電力(万kW)</th>\n",
       "      <th>時間帯</th>\n",
       "      <th>予想最大電力情報更新日</th>\n",
       "      <td>予想最大電力情報更新時刻</td>\n",
       "    </tr>\n",
       "    <tr>\n",
       "      <th>4210</th>\n",
       "      <th>17:00〜18:00</th>\n",
       "      <th>12/12</th>\n",
       "      <td>8:30</td>\n",
       "    </tr>\n",
       "    <tr>\n",
       "      <th>DATE</th>\n",
       "      <th>TIME</th>\n",
       "      <th>当日実績(万kW)</th>\n",
       "      <td>予測値（万kW)</td>\n",
       "    </tr>\n",
       "  </tbody>\n",
       "</table>\n",
       "</div>"
      ],
      "text/plain": [
       "                                     2013/12/12 23:20 UPDATE\n",
       "ピーク時供給力(万kW) 時間帯         供給力情報更新日                  供給力情報更新時刻\n",
       "4849         17:00〜18:00 12/12                          8:30\n",
       "予想最大電力(万kW)  時間帯         予想最大電力情報更新日            予想最大電力情報更新時刻\n",
       "4210         17:00〜18:00 12/12                          8:30\n",
       "DATE         TIME        当日実績(万kW)                  予測値（万kW)"
      ]
     },
     "metadata": {},
     "output_type": "display_data"
    },
    {
     "name": "stdout",
     "output_type": "stream",
     "text": [
      "\n",
      "3. Running CleverCSV\n",
      "CleverCSV detected: delimiter = ',', quotechar = ''\n"
     ]
    }
   ],
   "source": [
    "compare(\"https://raw.githubusercontent.com/HAYASAKA-Ryosuke/TodenGraphDay/8f052219d037edabebd488e5f6dc2ddbe8367dc1/juyo-j.csv\")"
   ]
  },
  {
   "cell_type": "markdown",
   "metadata": {
    "format": "text/markdown"
   },
   "source": [
    "\n",
    "Sniffer says ``\\r`` (carriage return) is the delimiter!\n",
    "\n",
    "## Conclusion\n",
    "\n",
    "We hope you find CleverCSV useful! The package is still in beta, so if you \n",
    "encounter any issues or files where CleverCSV fails, please leave a comment on \n",
    "GitHub!\n"
   ]
  }
 ],
 "metadata": {
  "kernel_info": {
   "name": "python3"
  },
  "kernelspec": {
   "display_name": "Python 3",
   "language": "python",
   "name": "python3"
  },
  "language_info": {
   "codemirror_mode": {
    "name": "ipython",
    "version": 3
   },
   "file_extension": ".py",
   "mimetype": "text/x-python",
   "name": "python",
   "nbconvert_exporter": "python",
   "pygments_lexer": "ipython3",
   "version": "3.8.2"
  }
 },
 "nbformat": 4,
 "nbformat_minor": 1
}
